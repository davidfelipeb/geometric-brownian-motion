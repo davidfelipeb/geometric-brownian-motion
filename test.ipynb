{
 "cells": [
  {
   "cell_type": "code",
   "execution_count": 72,
   "metadata": {},
   "outputs": [],
   "source": [
    "%run market_environment.py\n",
    "%run short_rate.py\n"
   ]
  },
  {
   "cell_type": "code",
   "execution_count": 36,
   "metadata": {},
   "outputs": [],
   "source": [
    "dates = [dt.datetime(2015, 1, 1), dt.datetime(2015, 7, 1),dt.datetime(2016, 1, 1)]\n",
    "csr = constant_short_rate('csr', 0.05)\n"
   ]
  },
  {
   "cell_type": "code",
   "execution_count": 37,
   "metadata": {},
   "outputs": [
    {
     "data": {
      "text/plain": [
       "array([0.        , 0.49589041, 1.        ])"
      ]
     },
     "execution_count": 37,
     "metadata": {},
     "output_type": "execute_result"
    }
   ],
   "source": [
    "csr.get_year_deltas(dates)"
   ]
  },
  {
   "cell_type": "code",
   "execution_count": 38,
   "metadata": {},
   "outputs": [
    {
     "data": {
      "text/plain": [
       "0.05"
      ]
     },
     "execution_count": 38,
     "metadata": {},
     "output_type": "execute_result"
    }
   ],
   "source": [
    "csr.short_rate"
   ]
  },
  {
   "cell_type": "code",
   "execution_count": 39,
   "metadata": {},
   "outputs": [
    {
     "data": {
      "text/plain": [
       "array([[datetime.datetime(2015, 1, 1, 0, 0), 0.951229424500714],\n",
       "       [datetime.datetime(2015, 7, 1, 0, 0), 0.9755103387657228],\n",
       "       [datetime.datetime(2016, 1, 1, 0, 0), 1.0]], dtype=object)"
      ]
     },
     "execution_count": 39,
     "metadata": {},
     "output_type": "execute_result"
    }
   ],
   "source": [
    "csr.get_discount_factors(dates, dtobjects=True)"
   ]
  },
  {
   "cell_type": "markdown",
   "metadata": {},
   "source": [
    "### Working Example"
   ]
  },
  {
   "cell_type": "code",
   "execution_count": 73,
   "metadata": {},
   "outputs": [],
   "source": [
    "menv_gbm = market_environment('gbm', dt.datetime(2022,1,1))"
   ]
  },
  {
   "cell_type": "code",
   "execution_count": 74,
   "metadata": {},
   "outputs": [
    {
     "ename": "TypeError",
     "evalue": "unsupported format string passed to list.__format__",
     "output_type": "error",
     "traceback": [
      "\u001b[0;31m---------------------------------------------------------------------------\u001b[0m",
      "\u001b[0;31mTypeError\u001b[0m                                 Traceback (most recent call last)",
      "\u001b[1;32m/home/david/Insync/Maestria_en_Fisica/Cursos/Fisica_Estadistica_Avanzada/ParteIII/geometric_brownian_motion/test.ipynb Cell 8'\u001b[0m in \u001b[0;36m<cell line: 1>\u001b[0;34m()\u001b[0m\n\u001b[0;32m----> <a href='vscode-notebook-cell:/home/david/Insync/Maestria_en_Fisica/Cursos/Fisica_Estadistica_Avanzada/ParteIII/geometric_brownian_motion/test.ipynb#ch0000008?line=0'>1</a>\u001b[0m menv_gbm\u001b[39m.\u001b[39;49minfo()\n",
      "File \u001b[0;32m~/Insync/Maestria_en_Fisica/Cursos/Fisica_Estadistica_Avanzada/ParteIII/geometric_brownian_motion/market_environment.py:42\u001b[0m, in \u001b[0;36mmarket_environment.info\u001b[0;34m(self)\u001b[0m\n\u001b[1;32m     <a href='file:///home/david/Insync/Maestria_en_Fisica/Cursos/Fisica_Estadistica_Avanzada/ParteIII/geometric_brownian_motion/market_environment.py?line=39'>40</a>\u001b[0m \u001b[39mdef\u001b[39;00m \u001b[39minfo\u001b[39m(\u001b[39mself\u001b[39m):\n\u001b[1;32m     <a href='file:///home/david/Insync/Maestria_en_Fisica/Cursos/Fisica_Estadistica_Avanzada/ParteIII/geometric_brownian_motion/market_environment.py?line=40'>41</a>\u001b[0m     \u001b[39mprint\u001b[39m(\u001b[39m'\u001b[39m\u001b[39mName : \u001b[39m\u001b[39m{:>12}\u001b[39;00m\u001b[39m'\u001b[39m\u001b[39m.\u001b[39mformat(\u001b[39mself\u001b[39m\u001b[39m.\u001b[39mname))\n\u001b[0;32m---> <a href='file:///home/david/Insync/Maestria_en_Fisica/Cursos/Fisica_Estadistica_Avanzada/ParteIII/geometric_brownian_motion/market_environment.py?line=41'>42</a>\u001b[0m     \u001b[39mprint\u001b[39m(\u001b[39m'\u001b[39m\u001b[39mConstants : \u001b[39m\u001b[39m{:>12}\u001b[39;00m\u001b[39m'\u001b[39m\u001b[39m.\u001b[39mformat(\u001b[39mself\u001b[39m\u001b[39m.\u001b[39mconstants))\n\u001b[1;32m     <a href='file:///home/david/Insync/Maestria_en_Fisica/Cursos/Fisica_Estadistica_Avanzada/ParteIII/geometric_brownian_motion/market_environment.py?line=42'>43</a>\u001b[0m     \u001b[39mprint\u001b[39m(\u001b[39m'\u001b[39m\u001b[39mArrays : \u001b[39m\u001b[39m{:>12}\u001b[39;00m\u001b[39m'\u001b[39m\u001b[39m.\u001b[39mformat(\u001b[39mself\u001b[39m\u001b[39m.\u001b[39marrays\u001b[39m.\u001b[39mkeys()))\n",
      "\u001b[0;31mTypeError\u001b[0m: unsupported format string passed to list.__format__"
     ]
    }
   ],
   "source": [
    "menv_gbm.info()"
   ]
  },
  {
   "cell_type": "code",
   "execution_count": null,
   "metadata": {},
   "outputs": [],
   "source": []
  },
  {
   "cell_type": "code",
   "execution_count": null,
   "metadata": {},
   "outputs": [],
   "source": []
  }
 ],
 "metadata": {
  "interpreter": {
   "hash": "856cde66f9b08c03ece09ed7901f1de227f6ef885cad040ff9c7f4b9c887696a"
  },
  "kernelspec": {
   "display_name": "Python 3.9.12 ('data')",
   "language": "python",
   "name": "python3"
  },
  "language_info": {
   "codemirror_mode": {
    "name": "ipython",
    "version": 3
   },
   "file_extension": ".py",
   "mimetype": "text/x-python",
   "name": "python",
   "nbconvert_exporter": "python",
   "pygments_lexer": "ipython3",
   "version": "3.9.12"
  },
  "orig_nbformat": 4
 },
 "nbformat": 4,
 "nbformat_minor": 2
}
